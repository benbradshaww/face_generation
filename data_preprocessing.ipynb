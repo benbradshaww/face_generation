{
 "cells": [
  {
   "cell_type": "code",
   "execution_count": 1,
   "metadata": {},
   "outputs": [],
   "source": [
    "from src.preprocessing.image_sampling import create_sample, downscale_images"
   ]
  },
  {
   "cell_type": "markdown",
   "metadata": {},
   "source": [
    "# Data Preprocessing"
   ]
  },
  {
   "cell_type": "code",
   "execution_count": 2,
   "metadata": {},
   "outputs": [
    {
     "name": "stdout",
     "output_type": "stream",
     "text": [
      "Files shuffled with seed 42.\n",
      "Sample creation completed.\n"
     ]
    }
   ],
   "source": [
    "create_sample(input_dir='./data/all_images/img_align_celeba/img_align_celeba/',\n",
    "                    output_dir='./data/10000_images/',\n",
    "                    sample_size=10000)"
   ]
  },
  {
   "cell_type": "code",
   "execution_count": 3,
   "metadata": {},
   "outputs": [
    {
     "name": "stdout",
     "output_type": "stream",
     "text": [
      "Processed all 10000 files\n"
     ]
    }
   ],
   "source": [
    "downscale_images(input_dir='./data/10000_images/',\n",
    "                 output_dir='./data/10000_images_downscaled/',\n",
    "                 output_size=(64,64))"
   ]
  }
 ],
 "metadata": {
  "kernelspec": {
   "display_name": ".venv",
   "language": "python",
   "name": "python3"
  },
  "language_info": {
   "codemirror_mode": {
    "name": "ipython",
    "version": 3
   },
   "file_extension": ".py",
   "mimetype": "text/x-python",
   "name": "python",
   "nbconvert_exporter": "python",
   "pygments_lexer": "ipython3",
   "version": "3.9.6"
  }
 },
 "nbformat": 4,
 "nbformat_minor": 2
}
