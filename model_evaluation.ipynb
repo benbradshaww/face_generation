{
 "cells": [
  {
   "cell_type": "code",
   "execution_count": null,
   "metadata": {},
   "outputs": [],
   "source": [
    "import pandas as pd\n",
    "import numpy as np\n",
    "import tensorflow as tf\n",
    "import time\n",
    "import os\n",
    "import matplotlib.pyplot as plt\n",
    "\n",
    "from IPython import display\n",
    "from PIL import Image\n",
    "from tqdm import tqdm\n",
    "\n",
    "from src.preprocessing.image_sampling import create_sample, downscale_images\n",
    "from src.preprocessing.preprocessing import preprocess\n",
    "from src.evaluation.losses import generator_loss, discriminator_loss, combined_metric\n",
    "from src.misc.plotting import plot_loss\n",
    "from src.misc.saving import generate_and_save_images, save_loss\n",
    "\n",
    "from src.models.wgan_gp import create_generator, create_discriminator, WGAN_GP\n",
    "\n",
    "from tensorflow.keras.models import load_model"
   ]
  },
  {
   "cell_type": "code",
   "execution_count": null,
   "metadata": {},
   "outputs": [],
   "source": [
    "ds = tf.data.Dataset.list_files('./data/10000_images_downscaled/*')\n",
    "\n",
    "ds = ds.map(preprocess(tanh=True)).batch(32)"
   ]
  },
  {
   "cell_type": "code",
   "execution_count": null,
   "metadata": {},
   "outputs": [],
   "source": [
    "sample = next(iter(ds))\n",
    "sample_image = sample[0].numpy()\n",
    "plt.title('Sample Image')\n",
    "plt.imshow(sample_image*0.5 + 0.5)"
   ]
  },
  {
   "cell_type": "code",
   "execution_count": null,
   "metadata": {},
   "outputs": [],
   "source": [
    "LATENT_DIM = 100"
   ]
  },
  {
   "cell_type": "code",
   "execution_count": null,
   "metadata": {},
   "outputs": [],
   "source": [
    "generator =  create_generator(input_shape=LATENT_DIM)\n",
    "discriminator = create_discriminator(input_shape=(64, 64, 3))\n",
    "\n",
    "generator_optimizer = tf.keras.optimizers.Adam(learning_rate=1e-4, \n",
    "\t\t\t\t\t\t\t\t\tbeta_1=0.5,\n",
    "\t\t\t\t\t\t\t\t\tbeta_2=0.9\n",
    "\t\t\t\t\t\t\t\t\t)\n",
    "\n",
    "discriminator_optimizer = tf.keras.optimizers.Adam(learning_rate=1e-4, \n",
    "\t\t\t\t\t\t\t\t\tbeta_1=0.5,\n",
    "\t\t\t\t\t\t\t\t\tbeta_2=0.9\n",
    "\t\t\t\t\t\t\t\t\t)"
   ]
  },
  {
   "cell_type": "code",
   "execution_count": null,
   "metadata": {},
   "outputs": [],
   "source": [
    "wgan_gp = WGAN_GP(generator, discriminator, latent_dim=LATENT_DIM)\n",
    "\n",
    "wgan_gp.compile(\n",
    "    disc_optimizer=discriminator_optimizer,\n",
    "    gen_optimizer=generator_optimizer,\n",
    "    disc_loss_fn=discriminator_loss,\n",
    "    gen_loss_fn=generator_loss,\n",
    ")"
   ]
  },
  {
   "cell_type": "code",
   "execution_count": null,
   "metadata": {},
   "outputs": [],
   "source": [
    "checkpoint_dir = './src/model_checkpoints/wgan_gp_checkpoints/'\n",
    "checkpoint_prefix = checkpoint_dir + \"wgan_gp_ckpt\"\n",
    "\n",
    "checkpoint = tf.train.Checkpoint(generator_optimizer=generator_optimizer,\n",
    "                                 discriminator_optimizer=discriminator_optimizer,\n",
    "                                 generator=generator,\n",
    "                                 discriminator=discriminator)\n",
    "\n",
    "checkpoint_manager = tf.train.CheckpointManager(checkpoint, directory=checkpoint_dir, checkpoint_name=checkpoint_prefix, max_to_keep=1)\n",
    "\n",
    "\n",
    "checkpoint.restore(tf.train.latest_checkpoint(checkpoint_dir))\n",
    "    "
   ]
  },
  {
   "cell_type": "code",
   "execution_count": null,
   "metadata": {},
   "outputs": [],
   "source": []
  }
 ],
 "metadata": {
  "language_info": {
   "name": "python"
  }
 },
 "nbformat": 4,
 "nbformat_minor": 2
}
